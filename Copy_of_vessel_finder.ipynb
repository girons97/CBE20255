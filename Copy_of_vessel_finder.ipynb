{
  "cells": [
    {
      "cell_type": "markdown",
      "metadata": {
        "id": "view-in-github",
        "colab_type": "text"
      },
      "source": [
        "<a href=\"https://colab.research.google.com/github/girons97/CBE20255/blob/master/Copy_of_vessel_finder.ipynb\" target=\"_parent\"><img src=\"https://colab.research.google.com/assets/colab-badge.svg\" alt=\"Open In Colab\"/></a>"
      ]
    },
    {
      "cell_type": "code",
      "execution_count": null,
      "metadata": {
        "id": "G_0B4lWthu-G"
      },
      "outputs": [],
      "source": [
        "from bs4 import BeautifulSoup\n",
        "import pandas as pd\n",
        "import numpy as np\n",
        "import matplotlib.pyplot as plt\n",
        "import requests\n",
        "import datetime\n",
        "import matplotlib.dates as mdates\n",
        "import csv\n",
        "from collections import defaultdict\n",
        "header = { 'User-Agent': 'Mozilla/5.0 (Windows NT 10.0; Win64; x64) AppleWebKit/537.36 (KHTML, like Gecko) Chrome/71.0.3578.98 Safari/537.36' }\n",
        "vessel_names_file = 'vessel_names.csv'\n",
        "container_names_file = 'containers.csv'\n",
        "\n",
        "from google.colab import files\n",
        "uploaded = files.upload()"
      ]
    },
    {
      "cell_type": "code",
      "execution_count": null,
      "metadata": {
        "id": "YKrn37oGhu-I"
      },
      "outputs": [],
      "source": [
        "def file_to_list(csv_file):\n",
        "    with open(csv_file, encoding='utf-8-sig') as f:\n",
        "        return list(csv.reader(f))\n",
        "\n",
        "vessels = file_to_list(vessel_names_file)"
      ]
    },
    {
      "cell_type": "code",
      "execution_count": null,
      "metadata": {
        "id": "kZJihEFVhu-I",
        "outputId": "c11db0fb-b7ee-4529-8843-ded750378b2d"
      },
      "outputs": [
        {
          "data": {
            "text/plain": [
              "[['L4638', 'MRSU4425782', '13/04/2022', '06:30:00'],\n",
              " ['L4639', 'MRSU4425782', '14/04/2022', '07:30:00'],\n",
              " ['L4640', 'MRSU4425782', '15/04/2022', '08:30:00'],\n",
              " ['L4641', 'MRSU4425782', '15/04/2022', '09:30:00'],\n",
              " ['L4642', 'MRSU4425782', '16/04/2022', '10:30:00']]"
            ]
          },
          "execution_count": 17,
          "metadata": {},
          "output_type": "execute_result"
        }
      ],
      "source": [
        "def containers_to_dict(csv_file):\n",
        "    containers = file_to_list(csv_file)\n",
        "    containers_dict = defaultdict(list)\n",
        "    for container in containers:\n",
        "        containers_dict[container[0]].append(container[1:])\n",
        "    return containers_dict\n"
      ]
    },
    {
      "cell_type": "code",
      "execution_count": null,
      "metadata": {
        "id": "yzNHYy7yhu-K",
        "outputId": "b0b12dc5-0177-48f3-aa9b-960b4a8bc68e"
      },
      "outputs": [
        {
          "data": {
            "text/plain": [
              "{'isContainerSearch': True,\n",
              " 'origin': {'terminal': 'Beilun Container Terminal Phase 4',\n",
              "  'geo_site': '33R7MNJ1ZSB4I',\n",
              "  'city': 'Ningbo',\n",
              "  'state': 'Zhejiang',\n",
              "  'country': 'China',\n",
              "  'country_code': 'CN',\n",
              "  'geoid_city': '104T898SJZ6GU',\n",
              "  'site_type': 'TERMINAL'},\n",
              " 'destination': {'terminal': 'FELIXSTOWE TRINITY TERMINAL',\n",
              "  'geo_site': '0MZSJ9SROEGKD',\n",
              "  'city': 'Felixstowe',\n",
              "  'state': '',\n",
              "  'country': 'United Kingdom',\n",
              "  'country_code': 'GB',\n",
              "  'geoid_city': '23KBBVVUYELJT',\n",
              "  'site_type': 'TERMINAL'},\n",
              " 'containers': [{'container_num': 'MRSU4425782',\n",
              "   'container_size': '40',\n",
              "   'container_type': 'Dry',\n",
              "   'iso_code': '42G0',\n",
              "   'operator': 'MAEU',\n",
              "   'locations': [{'terminal': 'Beilun Container Terminal Phase 4',\n",
              "     'geo_site': '33R7MNJ1ZSB4I',\n",
              "     'city': 'Ningbo',\n",
              "     'state': 'Zhejiang',\n",
              "     'country': 'China',\n",
              "     'country_code': 'CN',\n",
              "     'geoid_city': '104T898SJZ6GU',\n",
              "     'site_type': 'TERMINAL',\n",
              "     'events': [{'activity': 'GATE-IN',\n",
              "       'stempty': False,\n",
              "       'actfor': 'EXP',\n",
              "       'vessel_name': 'EBBA MAERSK',\n",
              "       'voyage_num': '211W',\n",
              "       'vessel_num': '788',\n",
              "       'expected_time': '2022-03-14T16:00:00.000',\n",
              "       'actual_time': '2022-03-08T18:28:00.000',\n",
              "       'rkem_move': 'GATE-IN',\n",
              "       'is_cancelled': False,\n",
              "       'is_current': True},\n",
              "      {'activity': 'LOAD',\n",
              "       'stempty': False,\n",
              "       'actfor': 'EXP',\n",
              "       'vessel_name': 'EBBA MAERSK',\n",
              "       'voyage_num': '211W',\n",
              "       'vessel_num': '788',\n",
              "       'expected_time': '2022-03-14T16:00:00.000',\n",
              "       'is_current': False}]},\n",
              "    {'terminal': 'Eurogate Container Terminal GmbH',\n",
              "     'geo_site': 'NJKIMO515BXLV',\n",
              "     'city': 'Wilhelmshaven',\n",
              "     'state': 'Lower Saxony',\n",
              "     'country': 'Germany',\n",
              "     'country_code': 'DE',\n",
              "     'geoid_city': '1ZPUMHQGZ3KOU',\n",
              "     'site_type': 'TERMINAL',\n",
              "     'events': [{'activity': 'DISCHARG',\n",
              "       'stempty': False,\n",
              "       'actfor': 'EXP',\n",
              "       'vessel_name': 'EBBA MAERSK',\n",
              "       'voyage_num': '211W',\n",
              "       'vessel_num': '788',\n",
              "       'expected_time': '2022-04-23T22:00:00.000',\n",
              "       'is_current': False},\n",
              "      {'activity': 'LOAD',\n",
              "       'stempty': False,\n",
              "       'actfor': 'EXP',\n",
              "       'vessel_name': 'MDV 164',\n",
              "       'voyage_num': '218N',\n",
              "       'vessel_num': '00S',\n",
              "       'expected_time': '2022-05-05T06:00:00.000',\n",
              "       'is_current': False}]},\n",
              "    {'terminal': 'FELIXSTOWE TRINITY TERMINAL',\n",
              "     'geo_site': '0MZSJ9SROEGKD',\n",
              "     'city': 'Felixstowe',\n",
              "     'state': '',\n",
              "     'country': 'United Kingdom',\n",
              "     'country_code': 'GB',\n",
              "     'geoid_city': '23KBBVVUYELJT',\n",
              "     'site_type': 'TERMINAL',\n",
              "     'events': [{'activity': 'DISCHARG',\n",
              "       'stempty': False,\n",
              "       'actfor': 'EXP',\n",
              "       'vessel_name': 'MDV 164',\n",
              "       'voyage_num': '218N',\n",
              "       'vessel_num': '00S',\n",
              "       'expected_time': '2022-05-07T09:00:00.000',\n",
              "       'is_current': False},\n",
              "      {'activity': 'GATE-OUT',\n",
              "       'stempty': False,\n",
              "       'actfor': 'DEL',\n",
              "       'vessel_name': 'MDV 164',\n",
              "       'voyage_num': '218N',\n",
              "       'vessel_num': '00S',\n",
              "       'expected_time': '2022-05-07T09:00:00.000',\n",
              "       'is_current': False}]}],\n",
              "   'eta_final_delivery': '2022-05-07T09:00:00.000',\n",
              "   'latest': {'actual_time': '2022-03-08T18:28:00.000',\n",
              "    'activity': 'GATE-IN',\n",
              "    'stempty': False,\n",
              "    'actfor': 'EXP',\n",
              "    'geo_site': '33R7MNJ1ZSB4I',\n",
              "    'city': 'Ningbo',\n",
              "    'state': 'Zhejiang',\n",
              "    'country': 'China',\n",
              "    'country_code': 'CN'},\n",
              "   'status': 'IN-PROGRESS'}]}"
            ]
          },
          "execution_count": 18,
          "metadata": {},
          "output_type": "execute_result"
        }
      ],
      "source": [
        "def maersk_tracker(container):\n",
        "    \n",
        "    url = \"https://api.maersk.com/track/{}?operator=MAEU\".format(container)\n",
        "    headers = {\n",
        "        \"accept\": \"application/json\",\n",
        "        \"accept-encoding\": \"gzip, deflate, br\",\n",
        "        \"user-agent\": \"Mozilla/5.0\",\n",
        "        \"x-requested-with\": \"XMLHttpRequest\"\n",
        "    }\n",
        "    response = requests.get(url, headers=headers)\n",
        "\n",
        "    return response.json()\n",
        "\n",
        "maersk_tracker(\"MRSU4425782\")"
      ]
    },
    {
      "cell_type": "code",
      "execution_count": null,
      "metadata": {
        "id": "yOs3cFXnhu-L"
      },
      "outputs": [],
      "source": [
        "def get_vessel_ids(vessels):\n",
        "    '''Input .csv file with three columns. Col 1: Vessel code, Col 2: Vessel name, Col 3: IMO number\n",
        "    Output list of Col 1: Vessel code, Col 2: Vessel name, Col 3: IMO number, Col 4: MMSI number, Col 5: Marine traffic ShipID\n",
        "    This is done via extracting from the redirected link e.g./ais/details/ships/shipid:4975268/mmsi:538007378/imo:9769283/vessel:MOL_TRUST'''\n",
        "    headers = {\n",
        "            \"accept\": \"application/json\",\n",
        "            \"accept-encoding\": \"gzip, deflate\",\n",
        "            \"user-agent\": \"Mozilla/5.0\",\n",
        "            \"x-requested-with\": \"XMLHttpRequest\"\n",
        "        }\n",
        "    for vessel in vessels: #for each line in the input csv file \n",
        "        marine_traffic_req  = requests.get('https://www.marinetraffic.com/en/ais/details/ships/imo:'+vessel[2], headers=header, allow_redirects=False)\n",
        "        vessel.append(str(marine_traffic_req.headers['Location'].split('mmsi:')[1].split('/')[0])) #Get the vessel MMSI\n",
        "        vessel.append(str(marine_traffic_req.headers['Location'].split('shipid:')[1].split('/')[0])) #Get the SHIP ID\n",
        "\n",
        "    return vessels\n",
        "vessels = get_vessel_ids(vessels)"
      ]
    },
    {
      "cell_type": "code",
      "execution_count": null,
      "metadata": {
        "id": "uVuZMo03hu-M",
        "outputId": "774d5da5-4ec6-44f8-e410-497ea6df2492"
      },
      "outputs": [
        {
          "data": {
            "text/plain": [
              "[['MAE2031',\n",
              "  'Maersk Euphrates',\n",
              "  '9694567',\n",
              "  '538005747',\n",
              "  '714735',\n",
              "  datetime.datetime(2022, 3, 13, 22, 43, 21),\n",
              "  37.59353,\n",
              "  6.21659,\n",
              "  'Underway using Engine',\n",
              "  'THAMES',\n",
              "  datetime.datetime(2022, 3, 7, 22, 48),\n",
              "  'PORT SAID',\n",
              "  datetime.datetime(2022, 3, 17, 16, 0),\n",
              "  'None'],\n",
              " ['MSC5063',\n",
              "  'Bg Onyx',\n",
              "  '9436197',\n",
              "  '255772000',\n",
              "  '364673',\n",
              "  datetime.datetime(2022, 3, 13, 22, 43, 17),\n",
              "  52.00881,\n",
              "  3.829252,\n",
              "  'Underway using Engine',\n",
              "  'GRANGEMOUTH',\n",
              "  datetime.datetime(2022, 3, 12, 21, 55),\n",
              "  'ROTTERDAM',\n",
              "  datetime.datetime(2022, 3, 13, 22, 0),\n",
              "  'None'],\n",
              " ['CMA4052',\n",
              "  'Msc Geneva',\n",
              "  '9320427',\n",
              "  '636093051',\n",
              "  '300155',\n",
              "  datetime.datetime(2022, 3, 13, 21, 0, 20),\n",
              "  44.54929,\n",
              "  -6.98833,\n",
              "  'Underway using Engine',\n",
              "  'ANTWERP',\n",
              "  datetime.datetime(2022, 3, 11, 10, 23),\n",
              "  'SINES',\n",
              "  datetime.datetime(2022, 3, 15, 12, 0),\n",
              "  'None'],\n",
              " ['ONE3042',\n",
              "  'Suecia Seaways',\n",
              "  '9153020',\n",
              "  '220284000',\n",
              "  '158822',\n",
              "  datetime.datetime(2022, 3, 13, 22, 42, 14),\n",
              "  51.90767,\n",
              "  4.3625,\n",
              "  'Moored',\n",
              "  'FELIXSTOWE',\n",
              "  datetime.datetime(2022, 3, 12, 2, 0),\n",
              "  'VLAARDINGEN',\n",
              "  datetime.datetime(2022, 3, 12, 10, 36),\n",
              "  'VLAARDINGEN'],\n",
              " ['MAE4039',\n",
              "  'Gardenia Seaways',\n",
              "  '9809095',\n",
              "  '277546000',\n",
              "  '4962920',\n",
              "  datetime.datetime(2022, 3, 13, 22, 41, 29),\n",
              "  51.95292,\n",
              "  1.312,\n",
              "  'Moored',\n",
              "  'VLAARDINGEN',\n",
              "  datetime.datetime(2022, 3, 13, 11, 59),\n",
              "  'FELIXSTOWE',\n",
              "  datetime.datetime(2022, 3, 13, 21, 4),\n",
              "  'FELIXSTOWE']]"
            ]
          },
          "execution_count": 4,
          "metadata": {},
          "output_type": "execute_result"
        }
      ],
      "source": [
        "def get_ship_position(vessels):\n",
        "\n",
        "    for vessel in vessels:\n",
        "\n",
        "        url = \"https://www.marinetraffic.com/vesselDetails/latestPosition/shipid:{}\".format(vessel[4])\n",
        "\n",
        "        headers = {\n",
        "            \"accept\": \"application/json\",\n",
        "            \"accept-encoding\": \"gzip, deflate\",\n",
        "            \"user-agent\": \"Mozilla/5.0\",\n",
        "            \"x-requested-with\": \"XMLHttpRequest\"\n",
        "        }\n",
        "\n",
        "        response = requests.get(url, headers=headers).json()\n",
        "        \n",
        "\n",
        "        # def cleanNullTerms(response):\n",
        "        #     clean_response = {}\n",
        "        #     for k, v in response.items():\n",
        "        #         if isinstance(v, dict):\n",
        "        #             nested = cleanNullTerms(v)\n",
        "        #             if len(nested.keys()) > 0:\n",
        "        #                 clean_response[k] = nested\n",
        "        #         elif v is not None:\n",
        "        #             clean_response[k] = v\n",
        "        #         else:\n",
        "        #             clean_response[k] = \"None\"\n",
        "        #     return clean_response\n",
        "            \n",
        "        # response = cleanNullTerms(response)\n",
        "\n",
        "        lp = datetime.datetime.utcfromtimestamp(response[\"lastPos\"])\n",
        "        vessel.append(lp)\n",
        "        vessel.append(response[\"lat\"])\n",
        "        vessel.append(response[\"lon\"])\n",
        "        vessel.append(response[\"shipStatus\"])\n",
        "\n",
        "        try:\n",
        "            etd = datetime.datetime.utcfromtimestamp(response[\"departurePort\"][\"timestamp\"])\n",
        "            vessel.append(response[\"departurePort\"][\"name\"])\n",
        "            vessel.append(etd)\n",
        "        except:\n",
        "            vessel.append(\"None\")\n",
        "            vessel.append(\"None\")\n",
        "        \n",
        "        try:\n",
        "            eta = datetime.datetime.utcfromtimestamp(response[\"arrivalPort\"][\"timestamp\"])\n",
        "            vessel.append(response[\"arrivalPort\"][\"name\"])\n",
        "            vessel.append(eta)\n",
        "        except:\n",
        "            vessel.append(\"None\")\n",
        "            vessel.append(\"None\")\n",
        "        \n",
        "\n",
        "        if response[\"currentPortName\"] is None:\n",
        "            vessel.append(\"None\")\n",
        "        else:\n",
        "            vessel.append(response[\"currentPortName\"])\n",
        "\n",
        "    return vessels\n",
        "vessels = get_ship_position(vessels)\n",
        "vessels\n"
      ]
    },
    {
      "cell_type": "code",
      "execution_count": null,
      "metadata": {
        "id": "A8l17ocYhu-O",
        "outputId": "4e643735-ea88-47e0-e316-6c501e0f45ad"
      },
      "outputs": [
        {
          "name": "stderr",
          "output_type": "stream",
          "text": [
            "C:\\Users\\georg\\anaconda3\\lib\\site-packages\\urllib3\\connectionpool.py:1013: InsecureRequestWarning: Unverified HTTPS request is being made to host 'www.portoffelixstowe.co.uk'. Adding certificate verification is strongly advised. See: https://urllib3.readthedocs.io/en/1.26.x/advanced-usage.html#ssl-warnings\n",
            "  warnings.warn(\n"
          ]
        },
        {
          "data": {
            "text/plain": [
              "[['MAE2031',\n",
              "  'Maersk Euphrates',\n",
              "  '9694567',\n",
              "  '538005747',\n",
              "  '714735',\n",
              "  datetime.datetime(2022, 3, 13, 22, 43, 21),\n",
              "  37.59353,\n",
              "  6.21659,\n",
              "  'Underway using Engine',\n",
              "  'THAMES',\n",
              "  datetime.datetime(2022, 3, 7, 22, 48),\n",
              "  'PORT SAID',\n",
              "  datetime.datetime(2022, 3, 17, 16, 0),\n",
              "  'None',\n",
              "  'None',\n",
              "  'N/A'],\n",
              " ['MSC5063',\n",
              "  'Bg Onyx',\n",
              "  '9436197',\n",
              "  '255772000',\n",
              "  '364673',\n",
              "  datetime.datetime(2022, 3, 13, 22, 43, 17),\n",
              "  52.00881,\n",
              "  3.829252,\n",
              "  'Underway using Engine',\n",
              "  'GRANGEMOUTH',\n",
              "  datetime.datetime(2022, 3, 12, 21, 55),\n",
              "  'ROTTERDAM',\n",
              "  datetime.datetime(2022, 3, 13, 22, 0),\n",
              "  'None',\n",
              "  'FELIXSTOWE',\n",
              "  '19/03/22 16:30'],\n",
              " ['CMA4052',\n",
              "  'Msc Geneva',\n",
              "  '9320427',\n",
              "  '636093051',\n",
              "  '300155',\n",
              "  datetime.datetime(2022, 3, 13, 21, 0, 20),\n",
              "  44.54929,\n",
              "  -6.98833,\n",
              "  'Underway using Engine',\n",
              "  'ANTWERP',\n",
              "  datetime.datetime(2022, 3, 11, 10, 23),\n",
              "  'SINES',\n",
              "  datetime.datetime(2022, 3, 15, 12, 0),\n",
              "  'None',\n",
              "  'None',\n",
              "  'N/A'],\n",
              " ['ONE3042',\n",
              "  'Suecia Seaways',\n",
              "  '9153020',\n",
              "  '220284000',\n",
              "  '158822',\n",
              "  datetime.datetime(2022, 3, 13, 22, 42, 14),\n",
              "  51.90767,\n",
              "  4.3625,\n",
              "  'Moored',\n",
              "  'FELIXSTOWE',\n",
              "  datetime.datetime(2022, 3, 12, 2, 0),\n",
              "  'VLAARDINGEN',\n",
              "  datetime.datetime(2022, 3, 12, 10, 36),\n",
              "  'VLAARDINGEN',\n",
              "  'FELIXSTOWE',\n",
              "  '18/03/22 22:00'],\n",
              " ['MAE4039',\n",
              "  'Gardenia Seaways',\n",
              "  '9809095',\n",
              "  '277546000',\n",
              "  '4962920',\n",
              "  datetime.datetime(2022, 3, 13, 22, 41, 29),\n",
              "  51.95292,\n",
              "  1.312,\n",
              "  'Moored',\n",
              "  'VLAARDINGEN',\n",
              "  datetime.datetime(2022, 3, 13, 11, 59),\n",
              "  'FELIXSTOWE',\n",
              "  datetime.datetime(2022, 3, 13, 21, 4),\n",
              "  'FELIXSTOWE',\n",
              "  'FELIXSTOWE',\n",
              "  '19/03/22 22:00']]"
            ]
          },
          "execution_count": 5,
          "metadata": {},
          "output_type": "execute_result"
        }
      ],
      "source": [
        "def berth_slot(vessels):\n",
        "    \n",
        "    headers = {\n",
        "        \"accept\": \"application/json\",\n",
        "        \"accept-encoding\": \"gzip, deflate\",\n",
        "        \"user-agent\": \"Mozilla/5.0\",\n",
        "        \"x-requested-with\": \"XMLHttpRequest\"\n",
        "    }\n",
        "    \n",
        "    pfl_url = \"https://www.portoffelixstowe.co.uk/sailing-schedule/shipping-information/#Arrivals\"\n",
        "    felixstowe_port_html = requests.get(pfl_url, headers=headers, verify=False)\n",
        "    felixstowe_movements = pd.read_html(felixstowe_port_html.text)\n",
        "    felixstowe_arrivals = felixstowe_movements[0]\n",
        "    felixstowe_arrivals[\"Vessel Name\"] = felixstowe_arrivals[\"Vessel Name\"].str.upper()\n",
        "\n",
        "    pso_url = r\"https://www.southamptonvts.co.uk/BackgroundSite/Ajax/LoadXmlFileWithTransform?xmlFilePath=D:\\ftp\\southampton\\Shipping_Movements\\sot_extract.xml&xslFilePath=D:\\wwwroot\\CMS_Southampton\\content\\files\\assets\\sotextract.xsl&w=8\"\n",
        "    southampton_port_html= requests.get(pso_url, headers=headers)\n",
        "    southampton_movements = pd.read_html(southampton_port_html.text)\n",
        "    southampton_arrivals = southampton_movements[0]\n",
        "\n",
        "    for vessel in vessels:\n",
        "        if vessel[1].upper() in felixstowe_arrivals[\"Vessel Name\"].values:\n",
        "            vessel.append(\"FELIXSTOWE\")\n",
        "            vessel.append(felixstowe_arrivals.loc[felixstowe_arrivals['Vessel Name'] == vessel[1].upper()][\"ArrivalDate and Time\"].max())\n",
        "\n",
        "        elif vessel[1].upper() in southampton_arrivals[\"Ship Name\"].values:\n",
        "            vessel.append(\"SOUTHAMPTON\")\n",
        "            vessel.append(southampton_arrivals.loc[southampton_arrivals['Ship Name'] == vessel[1].upper()][\"Estimated Time Of Arrival\"].max())\n",
        "\n",
        "        else:\n",
        "            vessel.append(\"None\")\n",
        "            vessel.append(\"N/A\")\n",
        "    \n",
        "    return vessels\n",
        "\n",
        "\n",
        "vessels = berth_slot(vessels) \n",
        "vessels"
      ]
    },
    {
      "cell_type": "code",
      "execution_count": null,
      "metadata": {
        "id": "-7IvQ8K5hu-P"
      },
      "outputs": [],
      "source": [
        "vessel_headers = [\"Vessel code\", \"Vessel name\", \"IMO\", \"MMSI\", \"Ship ID\", \"Last reported\", \"Lattitude\", \"Longtitude\", \"Vessel status\",\n",
        "\"Current location\", \"ETD\", \"Last port\", \"ETA\", \"Next port\", \"Berthing location\", \"Berthing slot\"]\n",
        "vessels_df = pd.DataFrame(vessels, columns=vessel_headers)\n"
      ]
    },
    {
      "cell_type": "code",
      "execution_count": null,
      "metadata": {
        "id": "7za2irC_hu-Q"
      },
      "outputs": [],
      "source": [
        "vessels_df.to_csv(\"vessels_df.csv\")"
      ]
    },
    {
      "cell_type": "markdown",
      "metadata": {
        "id": "ccnsN0Kshu-R"
      },
      "source": [
        ""
      ]
    },
    {
      "cell_type": "code",
      "execution_count": null,
      "metadata": {
        "id": "xDPV6ZTHhu-S"
      },
      "outputs": [],
      "source": [
        "def one_line_tracker(container):\n",
        "\n",
        "    headers = {\n",
        "        \"accept\": \"application/json\",\n",
        "        \"accept-encoding\": \"gzip, deflate, br\",\n",
        "        \"user-agent\": \"Mozilla/5.0\",\n",
        "        \"x-requested-with\": \"XMLHttpRequest\"\n",
        "    }\n",
        "\n",
        "    url_1 = \"https://ecomm.one-line.com/ecom/CUP_HOM_3301GS.do?_search=false&rows=10000&page=1&sidx=&sord=asc&f_cmd=121&search_type=A&search_name={}&cust_cd=\".format(container)\n",
        "    \n",
        "    response_1 = requests.get(url_1, headers=headers)\n",
        "    cop_no = response_1.json()[\"list\"][0][\"copNo\"]\n",
        "    \n",
        "    url_2 = \"https://ecomm.one-line.com/ecom/CUP_HOM_3301GS.do?f_cmd=125&cntr_no={}&bkg_no=&cop_no={}\".format(container, cop_no)\n",
        "    response_2 = requests.get(url_2, headers=headers)\n",
        "    \n",
        "    return response_2.json()\n",
        "\n",
        "one_line_tracker(\"ONEU0006598\")\n"
      ]
    },
    {
      "cell_type": "code",
      "execution_count": null,
      "metadata": {
        "id": "ep1z8u2zhu-T",
        "outputId": "238bfad7-631c-4467-8e53-e2a062afe7a1"
      },
      "outputs": [
        {
          "data": {
            "text/plain": [
              "'CVLC2201061112'"
            ]
          },
          "execution_count": 16,
          "metadata": {},
          "output_type": "execute_result"
        }
      ],
      "source": [
        "def msc_tracker(container):\n",
        "    \n",
        "\n",
        "\n",
        "\n",
        "\n",
        "\n",
        "msc_tracker(\"MEDU6997295\")"
      ]
    }
  ],
  "metadata": {
    "interpreter": {
      "hash": "05e5263a5b3128ff67a7c8b075ff25752474a0d33381b4218d5af07966bbb998"
    },
    "kernelspec": {
      "display_name": "Python 3.9.7 64-bit ('base': conda)",
      "language": "python",
      "name": "python3"
    },
    "language_info": {
      "codemirror_mode": {
        "name": "ipython",
        "version": 3
      },
      "file_extension": ".py",
      "mimetype": "text/x-python",
      "name": "python",
      "nbconvert_exporter": "python",
      "pygments_lexer": "ipython3",
      "version": "3.9.7"
    },
    "orig_nbformat": 4,
    "colab": {
      "name": "Copy of vessel finder.ipynb",
      "provenance": [],
      "collapsed_sections": [],
      "include_colab_link": true
    }
  },
  "nbformat": 4,
  "nbformat_minor": 0
}